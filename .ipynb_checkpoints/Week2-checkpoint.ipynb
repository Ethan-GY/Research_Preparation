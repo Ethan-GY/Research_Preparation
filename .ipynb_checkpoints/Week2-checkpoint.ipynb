{
 "cells": [
  {
   "cell_type": "markdown",
   "id": "80893821-5142-47c3-ae2a-fca955db1b86",
   "metadata": {},
   "source": [
    "# 深度学习入门与理论奠基 "
   ]
  },
  {
   "cell_type": "markdown",
   "id": "3112c393-5955-425c-b826-95e47ab45611",
   "metadata": {},
   "source": [
    "> 掌握numpy、pandas，PyTorch核心操作，能够独立构建和训练基础模型，并理解其背后的机器学习原理。实操检验做作业"
   ]
  },
  {
   "cell_type": "markdown",
   "id": "f5b67f34-66aa-442f-9419-341ef0a9b86f",
   "metadata": {},
   "source": [
    "## Part1:成为数据科学家 - NumPy & Pandas & Matplotlib 实战"
   ]
  },
  {
   "cell_type": "code",
   "execution_count": 2,
   "id": "5bbd7ebd-0a5d-492c-84b2-04c9765a0b23",
   "metadata": {},
   "outputs": [],
   "source": [
    "#NumPy: 数组创建、索引、切片、广播机制、常用数学运算。\n",
    "#see numpy tutorials"
   ]
  },
  {
   "cell_type": "code",
   "execution_count": 3,
   "id": "0f342bc0-4e7b-4324-a9ef-9e89ae8940fd",
   "metadata": {},
   "outputs": [],
   "source": [
    "#Pandas: Series, DataFrame 创建，数据筛选 (loc, iloc)，分组聚合 (groupby)，数据合并 (merge, concat)，处理缺失值。"
   ]
  },
  {
   "cell_type": "code",
   "execution_count": 5,
   "id": "5294e2ca-55af-40f8-ba39-325d64fdb41e",
   "metadata": {},
   "outputs": [
    {
     "data": {
      "text/plain": [
       "'\\n找一个公开的多模态数据集（如Flickr30K的标注文件 results_20130124.token），\\n用Pandas加载其CSV/TSV文件，进行数据清洗（处理缺失值、重复值），\\n并统计不同类别的样本数量或计算某些列的统计信息（均值、方差等），\\n最后用Matplotlib或Seaborn绘制一个简单的统计图表。\\n'"
      ]
     },
     "execution_count": 5,
     "metadata": {},
     "output_type": "execute_result"
    }
   ],
   "source": [
    "'''\n",
    "找一个公开的多模态数据集（如Flickr30K的标注文件 results_20130124.token），\n",
    "用Pandas加载其CSV/TSV文件，进行数据清洗（处理缺失值、重复值），\n",
    "并统计不同类别的样本数量或计算某些列的统计信息（均值、方差等），\n",
    "最后用Matplotlib或Seaborn绘制一个简单的统计图表。\n",
    "'''"
   ]
  },
  {
   "cell_type": "markdown",
   "id": "31b37209-8a54-48ca-ab97-4b310f6e73ec",
   "metadata": {},
   "source": [
    "## Part2:PyTorch基础(数据加载,CNN实战调参）CS231n"
   ]
  },
  {
   "cell_type": "code",
   "execution_count": 8,
   "id": "c9b95b99-9001-4852-8479-25b581a2c973",
   "metadata": {},
   "outputs": [],
   "source": [
    "#PyTorch: Tensor 基础操作，自动求导 (autograd)，模型定义 (nn.Module)，损失函数，优化器 (SGD, Adam)。\n"
   ]
  },
  {
   "cell_type": "code",
   "execution_count": 9,
   "id": "105983c1-b9ea-4d08-a38b-0fb12fc89d9a",
   "metadata": {},
   "outputs": [],
   "source": [
    "#数据加载: Dataset 和 DataLoader 的自定义与使用。"
   ]
  },
  {
   "cell_type": "code",
   "execution_count": 10,
   "id": "549157d4-fa62-406d-ac3b-38a5af2ae6a0",
   "metadata": {},
   "outputs": [
    {
     "data": {
      "text/plain": [
       "'\\n自定义一个 Dataset 类，用于加载CIFAR-10数据集（可以使用 torchvision.datasets.CIFAR10 作为后端）。\\n编写一个简单的全连接神经网络 (nn.Sequential)，并在CIFAR-10的一个小批次（例如100张图片）上完成一次前向传播和反向传播。\\n'"
      ]
     },
     "execution_count": 10,
     "metadata": {},
     "output_type": "execute_result"
    }
   ],
   "source": [
    "'''\n",
    "自定义一个 Dataset 类，用于加载CIFAR-10数据集（可以使用 torchvision.datasets.CIFAR10 作为后端）。\n",
    "编写一个简单的全连接神经网络 (nn.Sequential)，并在CIFAR-10的一个小批次（例如100张图片）上完成一次前向传播和反向传播。\n",
    "'''"
   ]
  },
  {
   "cell_type": "code",
   "execution_count": 13,
   "id": "092ca15a-daec-44b6-a64e-cee0c38a67b3",
   "metadata": {},
   "outputs": [],
   "source": [
    "#CNN: 理解卷积层、池化层的作用。"
   ]
  },
  {
   "cell_type": "code",
   "execution_count": 12,
   "id": "48ad32bb-1c2a-4370-9517-2006420cd2bb",
   "metadata": {},
   "outputs": [],
   "source": [
    "#训练循环: 完整的训练、验证流程。"
   ]
  },
  {
   "cell_type": "code",
   "execution_count": 14,
   "id": "d399924d-c485-4ed7-b371-eb7c60f08f1b",
   "metadata": {},
   "outputs": [],
   "source": [
    "#过拟合与数据增强: 理解概念，学习使用 torchvision.transforms。"
   ]
  },
  {
   "cell_type": "code",
   "execution_count": 16,
   "id": "7a0aca13-b905-4768-b458-74786fb6dda6",
   "metadata": {},
   "outputs": [
    {
     "data": {
      "text/plain": [
       "'\\n在CIFAR-10数据集上，使用一个简单的CNN架构（如LeNet或自定义3层CNN）进行完整训练。\\n要求：1) 使用W&B记录训练和验证的loss、accuracy；2) 尝试至少一种数据增强方法；3) 最终在测试集上达到 >75% 的准确率。\\n'"
      ]
     },
     "execution_count": 16,
     "metadata": {},
     "output_type": "execute_result"
    }
   ],
   "source": [
    "'''\n",
    "在CIFAR-10数据集上，使用一个简单的CNN架构（如LeNet或自定义3层CNN）进行完整训练。\n",
    "要求：1) 使用W&B记录训练和验证的loss、accuracy；2) 尝试至少一种数据增强方法；3) 最终在测试集上达到 >75% 的准确率。\n",
    "'''"
   ]
  },
  {
   "cell_type": "markdown",
   "id": "2598161a-55d2-48a7-8196-f40dc8d10561",
   "metadata": {},
   "source": [
    "## Part3:吴恩达机器学习精要(损失函数与优化,正则化与模型评估)"
   ]
  },
  {
   "cell_type": "code",
   "execution_count": 17,
   "id": "71af7ab7-db2d-4e1a-ad42-4f28133d84e5",
   "metadata": {},
   "outputs": [],
   "source": [
    "#损失函数: 理解MSE和交叉熵损失的数学原理和适用场景。"
   ]
  },
  {
   "cell_type": "code",
   "execution_count": 18,
   "id": "e3f39603-6b11-4004-b007-c6e8a30787d8",
   "metadata": {},
   "outputs": [],
   "source": [
    "#优化算法: 深入理解梯度下降（GD, SGD, Mini-batch GD），学习率的作用和调整策略。"
   ]
  },
  {
   "cell_type": "code",
   "execution_count": 20,
   "id": "5ffd3f7e-4fff-4c96-bd4c-cf47e210c296",
   "metadata": {},
   "outputs": [
    {
     "data": {
      "text/plain": [
       "'\\n手动实现一个线性回归模型（不使用 nn.Linear），使用MSE损失和SGD优化器，\\n在一个合成数据集（如 y = 2x + 1 + noise）上进行训练。绘制损失函数随epoch变化的曲线。\\n'"
      ]
     },
     "execution_count": 20,
     "metadata": {},
     "output_type": "execute_result"
    }
   ],
   "source": [
    "'''\n",
    "手动实现一个线性回归模型（不使用 nn.Linear），使用MSE损失和SGD优化器，\n",
    "在一个合成数据集（如 y = 2x + 1 + noise）上进行训练。绘制损失函数随epoch变化的曲线。\n",
    "'''"
   ]
  },
  {
   "cell_type": "code",
   "execution_count": 21,
   "id": "0905de70-732d-4e5f-89b6-913cdc81e138",
   "metadata": {},
   "outputs": [],
   "source": [
    "#正则化: 理解L1/L2正则化、Dropout、Batch Normalization的原理和作用。\n"
   ]
  },
  {
   "cell_type": "code",
   "execution_count": 22,
   "id": "bb534d1b-2294-4053-80a8-b7193974154c",
   "metadata": {},
   "outputs": [],
   "source": [
    "#模型评估: 理解偏差-方差分解，过拟合与欠拟合的诊断。"
   ]
  },
  {
   "cell_type": "code",
   "execution_count": null,
   "id": "36f29e3d-358f-4a5f-87ef-a762be6c4707",
   "metadata": {},
   "outputs": [],
   "source": [
    "'''\n",
    "手动线性回归基础上，添加L2正则化项。对比有无正则化时，模型在训练集和一个“噪声更大”的验证集上的表现差异，并分析原因。\n",
    "'''"
   ]
  }
 ],
 "metadata": {
  "kernelspec": {
   "display_name": "mllm",
   "language": "python",
   "name": "mllm"
  },
  "language_info": {
   "codemirror_mode": {
    "name": "ipython",
    "version": 3
   },
   "file_extension": ".py",
   "mimetype": "text/x-python",
   "name": "python",
   "nbconvert_exporter": "python",
   "pygments_lexer": "ipython3",
   "version": "3.10.18"
  }
 },
 "nbformat": 4,
 "nbformat_minor": 5
}
