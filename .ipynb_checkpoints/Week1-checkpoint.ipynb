{
 "cells": [
  {
   "cell_type": "markdown",
   "id": "d9098fd0",
   "metadata": {},
   "source": [
    "# 科研基建与Python内功"
   ]
  },
  {
   "cell_type": "markdown",
   "id": "1894e579",
   "metadata": {},
   "source": [
    "> 目标： 搭建专业、高效的科研环境，掌握Python核心高级特性，为后续深度学习打下坚实基础。"
   ]
  },
  {
   "cell_type": "markdown",
   "id": "8f404468-bb0b-4aa9-8a5a-27c58968bf3d",
   "metadata": {},
   "source": [
    "## Part1:Git基础命令 (clone, add, commit, push, pull), 分支管理 (branch, checkout, merge)。"
   ]
  },
  {
   "cell_type": "code",
   "execution_count": null,
   "id": "d676d924-81e2-43c9-a0a8-48805efcb805",
   "metadata": {},
   "outputs": [],
   "source": []
  },
  {
   "cell_type": "code",
   "execution_count": null,
   "id": "7dddfceb-4c0f-4566-99c9-91d30c63da0c",
   "metadata": {},
   "outputs": [],
   "source": []
  },
  {
   "cell_type": "code",
   "execution_count": null,
   "id": "21d7a21d-041f-4acc-9b9c-456974a0c409",
   "metadata": {},
   "outputs": [],
   "source": []
  },
  {
   "cell_type": "code",
   "execution_count": null,
   "id": "9d81bed5-9e35-4da1-87f7-6aa63b06e51c",
   "metadata": {},
   "outputs": [],
   "source": []
  },
  {
   "cell_type": "markdown",
   "id": "83047beb-76b7-48e2-8937-7ee41315415e",
   "metadata": {},
   "source": [
    "## Part2:Docker核心概念 (镜像、容器)，使用官方PyTorch镜像 (docker run -it pytorch/pytorch)"
   ]
  },
  {
   "cell_type": "code",
   "execution_count": null,
   "id": "0ed68bd4-095b-4c28-b0e7-eba65b530c3e",
   "metadata": {},
   "outputs": [],
   "source": []
  },
  {
   "cell_type": "code",
   "execution_count": null,
   "id": "080e37a8-f753-44c1-a2d7-51027fb8be65",
   "metadata": {},
   "outputs": [],
   "source": []
  },
  {
   "cell_type": "markdown",
   "id": "e7663de0-b30b-428e-8631-79794e96979c",
   "metadata": {},
   "source": [
    "## Part3:W&B: 注册账号，学习 wandb.init(), wandb.log() 记录标量"
   ]
  },
  {
   "cell_type": "code",
   "execution_count": null,
   "id": "f3da81f5-83b9-49fa-8f46-0aa18422f3c9",
   "metadata": {},
   "outputs": [],
   "source": []
  },
  {
   "cell_type": "code",
   "execution_count": null,
   "id": "3fe17d76-d75a-4d97-a10f-b1de61552a94",
   "metadata": {},
   "outputs": [],
   "source": []
  },
  {
   "cell_type": "code",
   "execution_count": 9,
   "id": "bbe7a877-ecb4-4940-a2b8-6369bdcb8999",
   "metadata": {},
   "outputs": [
    {
     "data": {
      "text/plain": [
       "'使用Docker容器，在本地运行一个简单的PyTorch脚本（例如，随机生成两个Tensor并相加），并将计算结果（如Tensor的和）通过W&B记录到云端。'"
      ]
     },
     "execution_count": 9,
     "metadata": {},
     "output_type": "execute_result"
    }
   ],
   "source": [
    "'''使用Docker容器，在本地运行一个简单的PyTorch脚本（例如，随机生成两个Tensor并相加），并将计算结果（如Tensor的和）通过W&B记录到云端。'''"
   ]
  },
  {
   "cell_type": "markdown",
   "id": "816c52d1-68c9-4202-82f1-85c89837b175",
   "metadata": {},
   "source": [
    "## Part4:Python常用工具（生成器与装饰器，上下文管理器与常用库）"
   ]
  },
  {
   "cell_type": "code",
   "execution_count": 2,
   "id": "6b04bf5b-0523-41bc-85a5-427a0f6720b5",
   "metadata": {},
   "outputs": [],
   "source": [
    "#生成器 (yield): 理解其惰性求值和内存优势，对比列表。"
   ]
  },
  {
   "cell_type": "code",
   "execution_count": 3,
   "id": "8ce8b25a-d4af-4c0b-896a-fca10426a1e3",
   "metadata": {},
   "outputs": [],
   "source": [
    "#装饰器: 理解闭包，掌握无参和有参装饰器的写法。"
   ]
  },
  {
   "cell_type": "code",
   "execution_count": 8,
   "id": "06fb2805-3799-49fd-a15a-b63b5d699d92",
   "metadata": {},
   "outputs": [
    {
     "data": {
      "text/plain": [
       "'\\n编写一个 @timer 装饰器，用于测量任何函数的执行时间。\\n编写一个 @memory_profiler 装饰器（可以使用 torch.cuda.memory_allocated()），\\n用于测量函数执行前后的GPU显存变化。将这两个装饰器应用到第1周的PyTorch脚本中，\\n并通过W&B记录时间和显存数据。\\n'"
      ]
     },
     "execution_count": 8,
     "metadata": {},
     "output_type": "execute_result"
    }
   ],
   "source": [
    "'''\n",
    "编写一个 @timer 装饰器，用于测量任何函数的执行时间。\n",
    "编写一个 @memory_profiler 装饰器（可以使用 torch.cuda.memory_allocated()），\n",
    "用于测量函数执行前后的GPU显存变化。将这两个装饰器应用到第1周的PyTorch脚本中，\n",
    "并通过W&B记录时间和显存数据。\n",
    "'''"
   ]
  },
  {
   "cell_type": "code",
   "execution_count": 10,
   "id": "1f930ffe-91c3-4bd1-a601-805ab7622426",
   "metadata": {},
   "outputs": [],
   "source": [
    "#上下文管理器: 理解 __enter__ 和 __exit__，掌握 @contextmanager 装饰器。"
   ]
  },
  {
   "cell_type": "code",
   "execution_count": 11,
   "id": "c0f25a39-e5c4-42c9-a479-51fc1bddf359",
   "metadata": {},
   "outputs": [],
   "source": [
    "#常用库: os, glob (文件路径操作), json (配置文件读写), tqdm (进度条)。"
   ]
  },
  {
   "cell_type": "code",
   "execution_count": 13,
   "id": "c41f8400-0d10-4413-a4ee-5245cd06136f",
   "metadata": {},
   "outputs": [
    {
     "data": {
      "text/plain": [
       "'\\n1) 使用 contextlib 创建一个上下文管理器，在进入时记录GPU显存，在退出时记录并打印显存变化。\\n2) 编写一个脚本，使用 glob 遍历一个文件夹下的所有 .jpg 文件，并用 tqdm 显示进度，最后统计文件总数。\\n'"
      ]
     },
     "execution_count": 13,
     "metadata": {},
     "output_type": "execute_result"
    }
   ],
   "source": [
    "'''\n",
    "1) 使用 contextlib 创建一个上下文管理器，在进入时记录GPU显存，在退出时记录并打印显存变化。\n",
    "2) 编写一个脚本，使用 glob 遍历一个文件夹下的所有 .jpg 文件，并用 tqdm 显示进度，最后统计文件总数。\n",
    "'''"
   ]
  },
  {
   "cell_type": "code",
   "execution_count": null,
   "id": "30ab77c2-711d-4a8c-92cc-915c1feda433",
   "metadata": {},
   "outputs": [],
   "source": []
  }
 ],
 "metadata": {
  "kernelspec": {
   "display_name": "Python 3 (ipykernel)",
   "language": "python",
   "name": "python3"
  },
  "language_info": {
   "codemirror_mode": {
    "name": "ipython",
    "version": 3
   },
   "file_extension": ".py",
   "mimetype": "text/x-python",
   "name": "python",
   "nbconvert_exporter": "python",
   "pygments_lexer": "ipython3",
   "version": "3.10.18"
  }
 },
 "nbformat": 4,
 "nbformat_minor": 5
}
