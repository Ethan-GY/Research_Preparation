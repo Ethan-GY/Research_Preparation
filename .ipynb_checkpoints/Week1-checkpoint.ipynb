{
 "cells": [
  {
   "cell_type": "markdown",
   "id": "d9098fd0",
   "metadata": {},
   "source": [
    "# 科研基建与Python内功"
   ]
  },
  {
   "cell_type": "markdown",
   "id": "1894e579",
   "metadata": {},
   "source": [
    "> 目标： 搭建专业、高效的科研环境，掌握Python核心高级特性，为后续深度学习打下坚实基础。"
   ]
  },
  {
   "cell_type": "markdown",
   "id": "8f404468-bb0b-4aa9-8a5a-27c58968bf3d",
   "metadata": {},
   "source": [
    "## Part1:Git基础命令 (clone, add, commit, push, pull), 分支管理 (branch, checkout, merge)。"
   ]
  },
  {
   "cell_type": "code",
   "execution_count": null,
   "id": "d7598aff-4291-4b8c-9e8b-594b425c9636",
   "metadata": {},
   "outputs": [],
   "source": [
    "git init\n",
    "git branch -M main\n",
    "git add .\n",
    "git commit -m \"#描述改动内容\"\n",
    "(git remote add origin <url>.git) #第一次连接项目和仓库，如果本地项目是从仓库clone下来的，默认直接连接\n",
    "git push -u origin main #除了第一次push要加-u，后面都不用\n",
    "git pull origin main #把远程仓库的改动（合作者的改动）pull到本地，每次开始前都先pull一次最新的避免冲突"
   ]
  },
  {
   "cell_type": "code",
   "execution_count": null,
   "id": "7dddfceb-4c0f-4566-99c9-91d30c63da0c",
   "metadata": {},
   "outputs": [],
   "source": [
    "# 查看所有分支（* 表示当前所在分支）\n",
    "git branch\n",
    "\n",
    "# 创建新分支（比如叫 \"experiment-svm\"）\n",
    "git branch experiment-svm\n",
    "\n",
    "# 切换到新分支（见下条 checkout）\n",
    "git checkout experiment-svm\n",
    "\n",
    "# 也可以一步创建并切换：\n",
    "git checkout -b experiment-svm\n",
    "\n",
    "# 实验成功，要合并改动了，先切换回 main 分支\n",
    "git checkout main\n",
    "\n",
    "# 把 experiment-svm 的改动合并进来\n",
    "git merge experiment-svm\n",
    "\n",
    "git branch -d experiment-failed  # 删除本地分支\n",
    "git push origin --delete experiment-failed  # 删除远程分支"
   ]
  },
  {
   "cell_type": "code",
   "execution_count": null,
   "id": "51fd9541-16a5-4051-8214-ece2bbee38b8",
   "metadata": {},
   "outputs": [],
   "source": [
    "#解决冲突\n",
    "'''看到\n",
    "<<<<<<< HEAD\n",
    "accuracy = 0.95  # 你写的\n",
    "=======\n",
    "accuracy = 0.92  # 同学写的\n",
    ">>>>>>> experiment-svm'''\n",
    "\n",
    "#手动编辑文件，保留你想要的版本（或融合两者）\n",
    "#删除 <<<<<<<, =======, >>>>>>> 这些标记\n",
    "git add model.py\n",
    "git commit -m \"resolve merge conflict\""
   ]
  },
  {
   "cell_type": "markdown",
   "id": "83047beb-76b7-48e2-8937-7ee41315415e",
   "metadata": {},
   "source": [
    "## Part2:Docker核心概念 (镜像、容器)"
   ]
  },
  {
   "cell_type": "code",
   "execution_count": null,
   "id": "0ed68bd4-095b-4c28-b0e7-eba65b530c3e",
   "metadata": {},
   "outputs": [],
   "source": [
    "#docker 和 github 的区别在于，docker可以创建dockerfile，确保实验环境的一致性"
   ]
  },
  {
   "cell_type": "code",
   "execution_count": null,
   "id": "080e37a8-f753-44c1-a2d7-51027fb8be65",
   "metadata": {},
   "outputs": [],
   "source": [
    "#场景1：复现别人论文\n",
    "docker pull author/paper-env:latest #作者提供 Docker 镜像\n",
    "docker run -it author/paper-env bash #本地一键启动容器\n",
    "#用 --gpus all 让容器使用 GPU（需安装 nvidia-docker）\n",
    "#用 -p 8000:8000 映射端口，比如跑 JupyterLab 或 TensorBoard\n",
    "cd /project\n",
    "python train.py #直接复现实验，如果作者不靠谱的话需要自己用-v把代码挂载到容器里"
   ]
  },
  {
   "cell_type": "code",
   "execution_count": null,
   "id": "e4a2ac63-dcdf-4f0f-85fe-de609828737e",
   "metadata": {},
   "outputs": [],
   "source": [
    "#场景2:管理自己的多个实验环境\n",
    "#训练前打镜像标签 → myproject:v1-train, myproject:v2-finetune\n",
    "docker build -t myproject:exp1 .#构建镜像1\n",
    "docker build -t myproject:exp2 .#构建镜像2\n",
    "#然后本地会出现\n",
    "REPOSITORY   TAG     IMAGE ID\n",
    "myproject    exp1    a1b2c3d\n",
    "myproject    exp2    e4f5g6h\n",
    "#实际项目常见目录\n",
    "cd exp1 && docker build -t mypaper:exp1 .\n",
    "cd ../exp2 && docker build -t mypaper:exp2 .\n",
    "'''\n",
    "my-paper/\n",
    "├── exp1/\n",
    "│   ├── Dockerfile          # FROM pytorch:1.10\n",
    "│   └── train.py\n",
    "├── exp2/\n",
    "│   ├── Dockerfile          # FROM pytorch:2.0\n",
    "│   └── train.py\n",
    "└── data/                   # 共享数据目录\n",
    "'''"
   ]
  },
  {
   "cell_type": "code",
   "execution_count": null,
   "id": "72183f73-3da0-47a6-ae41-9c1fca35a69d",
   "metadata": {},
   "outputs": [],
   "source": [
    "#场景3：交付可复现成果\n",
    "#写完论文，把代码+环境打包成镜像 → 上传 Docker Hub\n",
    "#审稿人 docker run 就能跑你的实验 → 复现性满分！"
   ]
  },
  {
   "cell_type": "code",
   "execution_count": null,
   "id": "2641d2cc-be14-402f-955e-ae0f08351d1c",
   "metadata": {},
   "outputs": [],
   "source": [
    "docker pull ubuntu:20.04 #从仓库拉取镜像\n",
    "docker images #查看本地镜像\n",
    "docker run -it ubuntu:20.04 bash #本地运行容器，-it表示交互式终端\n",
    "docker ps #查看正在运行的容器\n",
    "docker ps -a #查看所有容器，包括已经停止的\n",
    "docker exec -it <容器名> bash #进入运行中的容器\n",
    "docker stop <容器名> #终止容器\n",
    "docker rm <容器名>#删除容器\n",
    "docker rmi <镜像名>#删除镜像\n",
    "docker commit <容器名> my-new-image #保存容器为新镜像，固定实验环境\n",
    "docker run -v /host/path:/container/path #挂载本地目录，让容器读写你本地的代码/数据，持久化实验数据"
   ]
  },
  {
   "cell_type": "code",
   "execution_count": null,
   "id": "f1cdf6c1-ade9-40f0-91e0-7bb5b434dd50",
   "metadata": {},
   "outputs": [],
   "source": [
    "#每个项目建一个 Dockerfile（镜像制作说明书）→ 环境可复现\n",
    "FROM ubuntu:20.04\n",
    "RUN apt update && apt install -y python3 python3-pip\n",
    "COPY requirements.txt .\n",
    "RUN pip3 install -r requirements.txt\n",
    "COPY . /app\n",
    "WORKDIR /app\n",
    "CMD [\"python3\", \"train.py\"]"
   ]
  },
  {
   "cell_type": "code",
   "execution_count": null,
   "id": "3704a1f2-31fd-442b-bc5e-4d320899fc61",
   "metadata": {},
   "outputs": [],
   "source": [
    "#生成一个叫 my-experiment 的镜像，别人可以直接用！\n",
    "#. → 表示“当前目录”是构建上下文（context）,对应的dockerfile必需在当前目录里\n",
    "docker build -t my-experiment .\n",
    "#上传镜像到 Docker Hub \n",
    "docker login\n",
    "docker tag myproject:exp1 zhangsan/myproject:exp1 #tag命名规范<用户名>/<仓库名>:<标签>\n",
    "docker tag myproject:exp2 zhangsan/myproject:exp2\n",
    "docker push zhangsan/myproject:exp1\n",
    "docker push zhangsan/myproject:exp2"
   ]
  },
  {
   "cell_type": "code",
   "execution_count": null,
   "id": "a2a60967-c67a-4f4e-b33c-872e42f555c4",
   "metadata": {},
   "outputs": [],
   "source": [
    "## 论文附录写复现步骤\n",
    "docker pull yourname/project:final\n",
    "docker run -it -v $(pwd)/data:/data yourname/project:final bash\n",
    "cd /project && python eval.py"
   ]
  },
  {
   "cell_type": "code",
   "execution_count": null,
   "id": "3d5ace51-58a6-4ddc-9427-42dbeb2129de",
   "metadata": {},
   "outputs": [],
   "source": [
    "# 科研常用完整步骤\n",
    "# 构建镜像（在 Dockerfile 所在目录）\n",
    "docker build -t myexp:v1 .\n",
    "\n",
    "# 启动容器 + 挂载代码 + 挂载数据 + 使用GPU\n",
    "docker run -it \\\n",
    "  --gpus all \\\n",
    "  -v $(pwd):/workspace \\\n",
    "  -v /data/datasets:/data \\\n",
    "  --name my-running-exp \\\n",
    "  myexp:v1 \\\n",
    "  bash\n",
    "\n",
    "# 进入已运行的容器（调试用）\n",
    "docker exec -it my-running-exp bash\n",
    "\n",
    "# 推送到 Docker Hub\n",
    "docker tag myexp:v1 yourname/myexp:v1\n",
    "docker push yourname/myexp:v1"
   ]
  },
  {
   "cell_type": "markdown",
   "id": "e7663de0-b30b-428e-8631-79794e96979c",
   "metadata": {},
   "source": [
    "## Part3:W&B: 注册账号，学习 wandb.init(), wandb.log() 记录标量"
   ]
  },
  {
   "cell_type": "code",
   "execution_count": null,
   "id": "f3da81f5-83b9-49fa-8f46-0aa18422f3c9",
   "metadata": {},
   "outputs": [],
   "source": [
    "#终端\n",
    "pip install wanb\n",
    "wanb login #需要copy apikey进去"
   ]
  },
  {
   "cell_type": "code",
   "execution_count": null,
   "id": "3fe17d76-d75a-4d97-a10f-b1de61552a94",
   "metadata": {},
   "outputs": [],
   "source": [
    "#初始化一次实验\n",
    "#调用 wandb.init() 后，W&B 会在后台创建一个“实验运行（Run）”，并分配唯一 ID\n",
    "#project：一个论文/课题一个项目，所有相关实验都在这里\n",
    "#name：比如 \"lr-0.01-batch64\", \"with-data-aug\", \"final-submission\"\n",
    "#config：记录所有超参数，后期可在网页端筛选、对比实验！\n",
    "import wandb\n",
    "\n",
    "wandb.init(\n",
    "    project=\"my-awesome-paper\",   # 项目名（必填！）\n",
    "    name=\"exp-svm-linear\",        # 实验名（可选，方便你识别）\n",
    "    config={                      # 超参数（可选，但强烈建议！）\n",
    "        \"learning_rate\": 0.001,\n",
    "        \"batch_size\": 32,\n",
    "        \"model\": \"ResNet18\",\n",
    "        \"epochs\": 100,\n",
    "    }\n",
    ")"
   ]
  },
  {
   "cell_type": "code",
   "execution_count": null,
   "id": "4e0e2dd1-976f-41ed-b378-c7d7509b4b08",
   "metadata": {},
   "outputs": [],
   "source": [
    "# 记录标量\n",
    "# 每训练完一个 epoch，你在笔记本上画一个点：横轴 epoch，纵轴 loss \n",
    "for epoch in range(100):\n",
    "    train_loss = train_one_epoch(...)  # 你的训练函数\n",
    "    val_acc = validate(...)            # 你的验证函数\n",
    "\n",
    "    # ✅ 重点！记录标量到 W&B\n",
    "    wandb.log({\n",
    "        \"train_loss\": train_loss,\n",
    "        \"val_acc\": val_acc,\n",
    "        \"epoch\": epoch\n",
    "    })"
   ]
  },
  {
   "cell_type": "code",
   "execution_count": null,
   "id": "f23fce19-21be-4197-a6e6-77a56f34dba0",
   "metadata": {},
   "outputs": [],
   "source": [
    "# pytorch科研完整模版\n",
    "# 每个实验都开一个 run：不同超参数、不同模型结构，都用 wandb.init() 分开\n",
    "# config 里放所有超参数：后期对比实验时神器！\n",
    "# log 频率不用太高：每个 epoch log 一次足够，避免数据爆炸\n",
    "# 起好实验名（name）：比如 \"bs128-lr0.001-aug\"，方便后期查找\n",
    "import wandb\n",
    "import torch\n",
    "import torch.nn as nn\n",
    "from torchvision import models\n",
    "\n",
    "# ========== 1. 初始化 W&B ==========\n",
    "wandb.init(\n",
    "    project=\"image-classification-paper\",\n",
    "    name=\"resnet18-lr0.001\",\n",
    "    config={\n",
    "        \"learning_rate\": 0.001,\n",
    "        \"batch_size\": 32,\n",
    "        \"architecture\": \"ResNet18\",\n",
    "        \"dataset\": \"CIFAR-10\",\n",
    "        \"epochs\": 50,\n",
    "    }\n",
    ")\n",
    "\n",
    "# ========== 2. 伪代码：模型、数据、优化器 ==========\n",
    "device = torch.device(\"cuda\" if torch.cuda.is_available() else \"cpu\")\n",
    "model = models.resnet18(pretrained=False, num_classes=10).to(device)\n",
    "criterion = nn.CrossEntropyLoss()\n",
    "optimizer = torch.optim.Adam(model.parameters(), lr=wandb.config.learning_rate)\n",
    "\n",
    "# ========== 3. 训练循环 ==========\n",
    "for epoch in range(wandb.config.epochs):\n",
    "    model.train()\n",
    "    train_loss = 0.0\n",
    "    for batch_idx, (data, target) in enumerate(train_loader):\n",
    "        data, target = data.to(device), target.to(device)\n",
    "        optimizer.zero_grad()\n",
    "        output = model(data)\n",
    "        loss = criterion(output, target)\n",
    "        loss.backward()\n",
    "        optimizer.step()\n",
    "        train_loss += loss.item()\n",
    "\n",
    "    # 验证（伪代码）\n",
    "    model.eval()\n",
    "    val_acc = evaluate(model, val_loader)  # 假设你有这个函数\n",
    "\n",
    "    # ========== 4. 记录到 W&B！==========\n",
    "    wandb.log({\n",
    "        \"train_loss\": train_loss / len(train_loader),\n",
    "        \"val_accuracy\": val_acc,\n",
    "        \"epoch\": epoch\n",
    "    })\n",
    "\n",
    "    print(f\"Epoch {epoch}: Loss={train_loss:.4f}, Acc={val_acc:.4f}\")\n",
    "\n",
    "# ========== 5. 结束（可选）==========\n",
    "wandb.finish()"
   ]
  },
  {
   "cell_type": "code",
   "execution_count": null,
   "id": "240b3580-48a4-43fb-942b-5f2208a843a8",
   "metadata": {},
   "outputs": [],
   "source": [
    "wandb.log({\"val_acc\": val_acc}, step=epoch)  # 显式指定 x 轴值\n",
    "\n",
    "current_lr = optimizer.param_groups[0]['lr']\n",
    "wandb.log({\"learning_rate\": current_lr}) #记录学习率\n",
    "\n",
    "wandb.log({\n",
    "    \"loss/train\": train_loss,\n",
    "    \"loss/val\": val_loss,\n",
    "    \"accuracy/train\": train_acc,\n",
    "    \"accuracy/val\": val_acc,\n",
    "}) # 记录多个曲线在同一张图（用相同 key 前缀），W&B 会自动分组，生成 loss 和 accuracy 两个图表。"
   ]
  },
  {
   "cell_type": "code",
   "execution_count": 9,
   "id": "bbe7a877-ecb4-4940-a2b8-6369bdcb8999",
   "metadata": {},
   "outputs": [
    {
     "data": {
      "text/plain": [
       "'使用Docker容器，在本地运行一个简单的PyTorch脚本（例如，随机生成两个Tensor并相加），并将计算结果（如Tensor的和）通过W&B记录到云端。'"
      ]
     },
     "execution_count": 9,
     "metadata": {},
     "output_type": "execute_result"
    }
   ],
   "source": [
    "'''使用Docker容器，在本地运行一个简单的PyTorch脚本（例如，随机生成两个Tensor并相加），并将计算结果（如Tensor的和）通过W&B记录到云端。'''"
   ]
  },
  {
   "cell_type": "markdown",
   "id": "816c52d1-68c9-4202-82f1-85c89837b175",
   "metadata": {},
   "source": [
    "## Part4:Python常用工具（生成器与装饰器，上下文管理器与常用库）"
   ]
  },
  {
   "cell_type": "code",
   "execution_count": 2,
   "id": "6b04bf5b-0523-41bc-85a5-427a0f6720b5",
   "metadata": {},
   "outputs": [],
   "source": [
    "#生成器 (yield): 理解其惰性求值和内存优势，对比列表。"
   ]
  },
  {
   "cell_type": "code",
   "execution_count": 3,
   "id": "8ce8b25a-d4af-4c0b-896a-fca10426a1e3",
   "metadata": {},
   "outputs": [],
   "source": [
    "#装饰器: 理解闭包，掌握无参和有参装饰器的写法。"
   ]
  },
  {
   "cell_type": "code",
   "execution_count": 8,
   "id": "06fb2805-3799-49fd-a15a-b63b5d699d92",
   "metadata": {},
   "outputs": [
    {
     "data": {
      "text/plain": [
       "'\\n编写一个 @timer 装饰器，用于测量任何函数的执行时间。\\n编写一个 @memory_profiler 装饰器（可以使用 torch.cuda.memory_allocated()），\\n用于测量函数执行前后的GPU显存变化。将这两个装饰器应用到第1周的PyTorch脚本中，\\n并通过W&B记录时间和显存数据。\\n'"
      ]
     },
     "execution_count": 8,
     "metadata": {},
     "output_type": "execute_result"
    }
   ],
   "source": [
    "'''\n",
    "编写一个 @timer 装饰器，用于测量任何函数的执行时间。\n",
    "编写一个 @memory_profiler 装饰器（可以使用 torch.cuda.memory_allocated()），\n",
    "用于测量函数执行前后的GPU显存变化。将这两个装饰器应用到第1周的PyTorch脚本中，\n",
    "并通过W&B记录时间和显存数据。\n",
    "'''"
   ]
  },
  {
   "cell_type": "code",
   "execution_count": 10,
   "id": "1f930ffe-91c3-4bd1-a601-805ab7622426",
   "metadata": {},
   "outputs": [],
   "source": [
    "#上下文管理器: 理解 __enter__ 和 __exit__，掌握 @contextmanager 装饰器。\n",
    "#上下文管理器确保资源的“自动获取与释放”、“初始化与清理”，无论是否发生异常.避免忘记关闭文件，提升代码健壮性，科研中常用于：日志写入、模型保存、临时文件、GPU显存监控等\n",
    "# 最常用的是with语句\n",
    "with open('data.txt','r') as f: # 文件会自动关闭，哪怕中间报错\n",
    "    content = f.read"
   ]
  },
  {
   "cell_type": "code",
   "execution_count": 11,
   "id": "c22b6200-1e98-4649-9017-733b629604d1",
   "metadata": {},
   "outputs": [
    {
     "name": "stdout",
     "output_type": "stream",
     "text": [
      "耗时1.0014秒\n"
     ]
    }
   ],
   "source": [
    "#自定义上下文管理器\n",
    "#法1:使用类实现 __enter__ 和 __exit__\n",
    "import time\n",
    "class Timer:\n",
    "    def __enter__(self): #当进入 with 语句块时，__enter__ 方法被自动调用。\n",
    "        self.start = time.time() #记录当前时间（进入 with 块的时间）\n",
    "        return self # 在 with Timer() as t: 中，变量 t 就会绑定到这个 Timer 实例\n",
    "    def __exit__(self,exc_type,exc_val,exc_tb): #当 with 语句块执行完毕（或发生异常）时，__exit__ 方法被自动调用。后面3个参数分别捕捉异常类型，值，traceback信息\n",
    "        print(f\"耗时{time.time()-self.start:.4f}秒\")\n",
    "        return False #不抑制异常。如果 with 块中发生异常，会继续向外抛出。\n",
    "with Timer() as t: #创建 Timer 实例，调用其 __enter__ 方法，返回值赋给 t\n",
    "    time.sleep(1) #模拟耗时操作，暂停 1 秒。\n",
    "#退出 with 块后，自动调用 __exit__，打印耗时。"
   ]
  },
  {
   "cell_type": "code",
   "execution_count": null,
   "id": "5053ac30-697f-4024-87ec-e4ac665b3ddb",
   "metadata": {},
   "outputs": [],
   "source": [
    "#法2:使用 contextlib.contextmanager 装饰器（推荐）\n",
    "from contextlib import contextmanager\n",
    "import torch\n",
    "\n",
    "@contextmanager\n",
    "def gpu_memory_monitor(device=0):\n",
    "    print(f\"[开始] GPU {device} 显存: {torch.cuda.memory_allocated(device)//1024**2} MB\")\n",
    "    yield\n",
    "    print(f\"[结束] GPU {device} 显存: {torch.cuda.memory_allocated(device)//1024**2} MB\")\n",
    "\n",
    "# 使用\n",
    "with gpu_memory_monitor():\n",
    "    model = MyBigModel().cuda()\n",
    "    output = model(input_tensor)"
   ]
  },
  {
   "cell_type": "code",
   "execution_count": 22,
   "id": "53022caf-39e1-4f50-90ec-3a24fd64f0e0",
   "metadata": {},
   "outputs": [
    {
     "name": "stdout",
     "output_type": "stream",
     "text": [
      "Roy\n",
      "woof\n",
      "I'm Roy, a robot.\n"
     ]
    }
   ],
   "source": [
    "# python的类复习强化\n",
    "class Animal:\n",
    "    def __init__(self,name):\n",
    "        self.name = name\n",
    "    def speak(self):\n",
    "        pass\n",
    "\n",
    "class Dog(Animal):\n",
    "    def speak(self):\n",
    "        return \"woof\"\n",
    "\n",
    "class Robot(Animal):\n",
    "    def operate(self):\n",
    "        return f\"I'm {self.name}, a robot.\"\n",
    "\n",
    "class DogRobo(Dog,Robot):\n",
    "    def __init__(self,name):\n",
    "        Dog.__init__(self,name)\n",
    "        Robot.__init__(self,name)\n",
    "robodog = DogRobo('Roy')\n",
    "print(robodog.name)\n",
    "print(robodog.speak())\n",
    "print(robodog.operate())"
   ]
  },
  {
   "cell_type": "code",
   "execution_count": 11,
   "id": "c0f25a39-e5c4-42c9-a479-51fc1bddf359",
   "metadata": {},
   "outputs": [],
   "source": [
    "#常用库: os, glob (文件路径操作), json (配置文件读写), tqdm (进度条)。"
   ]
  },
  {
   "cell_type": "code",
   "execution_count": null,
   "id": "c41f8400-0d10-4413-a4ee-5245cd06136f",
   "metadata": {},
   "outputs": [],
   "source": [
    "# 文件i/o操作，基础读写\n",
    "# 写入文本\n",
    "with open('output.txt', 'w', encoding='utf-8') as f:\n",
    "    f.write(\"Hello World\\n\")\n",
    "    f.writelines([\"Line 1\\n\", \"Line 2\\n\"])\n",
    "\n",
    "# 读取文本\n",
    "with open('output.txt', 'r', encoding='utf-8') as f:\n",
    "    content = f.read()        # 全部内容\n",
    "    lines = f.readlines()     # 按行读取列表\n",
    "\n",
    "# 逐行读取大文件（省内存）\n",
    "with open('large_file.txt') as f:\n",
    "    for line in f:\n",
    "        process(line)"
   ]
  },
  {
   "cell_type": "code",
   "execution_count": null,
   "id": "edfde9a8-ecf1-4a09-8159-4770cd48651c",
   "metadata": {},
   "outputs": [],
   "source": [
    "# 二进制读写\n",
    "# 保存模型权重（PyTorch 示例）\n",
    "torch.save(model.state_dict(), 'model.pth')\n",
    "\n",
    "# 加载\n",
    "model.load_state_dict(torch.load('model.pth'))\n",
    "\n",
    "# 或者用 pickle（通用对象序列化）\n",
    "import pickle\n",
    "with open('config.pkl', 'wb') as f:\n",
    "    pickle.dump(config_dict, f)\n",
    "\n",
    "with open('config.pkl', 'rb') as f:\n",
    "    config = pickle.load(f)"
   ]
  },
  {
   "cell_type": "code",
   "execution_count": null,
   "id": "0da3b8f7-ec69-42fa-a735-1e90cf2527b2",
   "metadata": {},
   "outputs": [],
   "source": [
    "# os库，操作系统接口\n",
    "import os\n",
    "\n",
    "# 路径操作（推荐用 os.path 或 pathlib）\n",
    "path = os.path.join(\"data\", \"train\", \"img_001.jpg\")\n",
    "basename = os.path.basename(path)   # \"img_001.jpg\"\n",
    "dirname = os.path.dirname(path)     # \"data/train\"\n",
    "\n",
    "# 创建目录（避免重复创建报错）\n",
    "os.makedirs(\"checkpoints\", exist_ok=True)\n",
    "\n",
    "# 列出目录内容\n",
    "files = os.listdir(\"data/\")\n",
    "\n",
    "# 环境变量（常用于配置路径、密钥）\n",
    "os.environ['CUDA_VISIBLE_DEVICES'] = '0,1'"
   ]
  },
  {
   "cell_type": "code",
   "execution_count": null,
   "id": "08c3d600-e863-4283-b916-02100fdadaca",
   "metadata": {},
   "outputs": [],
   "source": [
    "#json，配置文件/实验记录\n",
    "import json\n",
    "\n",
    "# 写入配置\n",
    "config = {\n",
    "    \"lr\": 1e-4,\n",
    "    \"batch_size\": 32,\n",
    "    \"epochs\": 100\n",
    "}\n",
    "\n",
    "with open('config.json', 'w') as f:\n",
    "    json.dump(config, f, indent=2)  # indent 让格式美观\n",
    "\n",
    "# 读取配置\n",
    "with open('config.json', 'r') as f:\n",
    "    loaded_config = json.load(f)\n",
    "\n",
    "print(loaded_config[\"lr\"])  # 0.0001"
   ]
  },
  {
   "cell_type": "code",
   "execution_count": null,
   "id": "668a1c76-0899-4608-891e-240f6d09a871",
   "metadata": {},
   "outputs": [],
   "source": [
    "# glob文件名模式匹配\n",
    "import glob\n",
    "\n",
    "# 匹配所有 jpg 文件\n",
    "image_files = glob.glob(\"data/train/*.jpg\")\n",
    "\n",
    "# 递归匹配子目录中的 txt 文件\n",
    "txt_files = glob.glob(\"data/**/*.txt\", recursive=True)\n",
    "\n",
    "# 在数据加载器中常用：\n",
    "train_images = sorted(glob.glob(\"dataset/*/images/*.png\"))\n",
    "train_labels = [f.replace('/images/', '/labels/') for f in train_images]"
   ]
  },
  {
   "cell_type": "code",
   "execution_count": null,
   "id": "6df6b6b7-9de6-44ec-a475-2eb671f78d95",
   "metadata": {},
   "outputs": [],
   "source": [
    "# tqdm进度条神器\n",
    "from tqdm import tqdm\n",
    "import time\n",
    "\n",
    "# 包装任何可迭代对象\n",
    "for i in tqdm(range(1000)):\n",
    "    time.sleep(0.01)  # 模拟耗时操作\n",
    "\n",
    "# 在 DataLoader 中使用（PyTorch）\n",
    "for batch in tqdm(train_loader, desc=\"Epoch 1\"):\n",
    "    train_step(batch)\n",
    "\n",
    "# 手动更新（用于复杂循环）\n",
    "pbar = tqdm(total=100)\n",
    "for i in range(10):\n",
    "    do_something()\n",
    "    pbar.update(10)  # 每次更新10%\n",
    "pbar.close()"
   ]
  },
  {
   "cell_type": "code",
   "execution_count": null,
   "id": "c9fdee91-9ba9-41d2-bf2e-9cfd0c6bfd1a",
   "metadata": {},
   "outputs": [],
   "source": []
  }
 ],
 "metadata": {
  "kernelspec": {
   "display_name": "mllm",
   "language": "python",
   "name": "mllm"
  },
  "language_info": {
   "codemirror_mode": {
    "name": "ipython",
    "version": 3
   },
   "file_extension": ".py",
   "mimetype": "text/x-python",
   "name": "python",
   "nbconvert_exporter": "python",
   "pygments_lexer": "ipython3",
   "version": "3.10.18"
  }
 },
 "nbformat": 4,
 "nbformat_minor": 5
}
